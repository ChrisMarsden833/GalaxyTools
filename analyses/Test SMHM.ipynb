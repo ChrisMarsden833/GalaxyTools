{
 "cells": [
  {
   "cell_type": "code",
   "execution_count": 1,
   "metadata": {},
   "outputs": [],
   "source": [
    "import numpy as np\n",
    "from HM2SM import *\n",
    "import matplotlib.pyplot as plt\n",
    "import time\n",
    "from colossus.cosmology import cosmology\n",
    "from scipy.stats import binned_statistic\n",
    "cosmo = cosmology.setCosmology(\"planck18\")\n",
    "sys.path.insert(0, \"/Users/chris/Documents/PhD/ProjectSigma/D-STEEL/dsteel/\")\n",
    "from scipy.optimize import curve_fit\n",
    "from semi_analytic_catalog import generate_parents_catalogue"
   ]
  },
  {
   "cell_type": "code",
   "execution_count": 2,
   "metadata": {},
   "outputs": [
    {
     "name": "stdout",
     "output_type": "stream",
     "text": [
      "2.8187451362609863\n"
     ]
    }
   ],
   "source": [
    "haloes_input = np.arange(10, 16, 0.1)\n",
    "stars_output = halo_mass_to_stellar_mass(haloes_input, 0., scatter=False)\n",
    "\n",
    "stars_input = np.arange(6, 14, 0.1)\n",
    "start_time = time.time()\n",
    "haloes_output = stellar_mass_to_halo_mass(stars_input, 0.)\n",
    "elapsed_time = time.time() - start_time\n",
    "print(elapsed_time)"
   ]
  },
  {
   "cell_type": "code",
   "execution_count": 3,
   "metadata": {},
   "outputs": [
    {
     "name": "stdout",
     "output_type": "stream",
     "text": [
      "[10.13444182 10.17866101 10.22214228 10.26493532 10.30748647 10.34894008\n",
      " 10.39039369 10.43089235 10.47110296 10.51099491 10.55007295 10.58915098\n",
      " 10.62750495 10.66558064 10.70357523 10.7408063  10.77803738 10.81500225\n",
      " 10.85158423 10.8881662  10.92447604 10.96065576 10.99683548 11.03293631\n",
      " 11.06902958 11.10516839 11.14158246 11.17799653 11.2147459  11.25200725\n",
      " 11.2892686  11.32761627 11.36640336 11.40551051 11.44668933 11.48786816\n",
      " 11.53150044 11.57615744 11.62305392 11.6725157  11.72480404 11.78062721\n",
      " 11.84173079 11.90651033 11.98027193 12.06242698 12.15473278 12.25977656\n",
      " 12.37942022 12.51550166 12.66809039 12.83444973 13.01209312 13.19856535\n",
      " 13.39177454 13.59018717 13.79307907 14.00008957 14.21118172 14.42629218\n",
      " 14.64550294 14.86894075 15.09675972 15.32939103 15.56683754 15.80935603\n",
      " 16.05742636 16.31107972 16.57090501 16.83711476 17.11006929 17.390361\n",
      " 17.67846202 17.97485479 18.28016635 18.59507835 18.92054438 19.25733912\n",
      " 19.60638077 19.96845141]\n"
     ]
    },
    {
     "data": {
      "image/png": "[encoded data removed]",
      "text/plain": [
       "<Figure size 432x288 with 1 Axes>"
      ]
     },
     "metadata": {
      "needs_background": "light"
     },
     "output_type": "display_data"
    }
   ],
   "source": [
    "plt.figure()\n",
    "plt.plot(haloes_input, stars_output)\n",
    "plt.plot(haloes_output, stars_input)\n",
    "print(haloes_output)\n",
    "plt.plot()\n",
    "plt.show()"
   ]
  },
  {
   "cell_type": "code",
   "execution_count": null,
   "metadata": {},
   "outputs": [],
   "source": []
  }
 ],
 "metadata": {
  "kernelspec": {
   "display_name": "Python 3",
   "language": "python",
   "name": "python3"
  },
  "language_info": {
   "codemirror_mode": {
    "name": "ipython",
    "version": 3
   },
   "file_extension": ".py",
   "mimetype": "text/x-python",
   "name": "python",
   "nbconvert_exporter": "python",
   "pygments_lexer": "ipython3",
   "version": "3.7.6"
  }
 },
 "nbformat": 4,
 "nbformat_minor": 4
}
