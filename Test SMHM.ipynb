{
 "cells": [
  {
   "cell_type": "code",
   "execution_count": 1,
   "metadata": {},
   "outputs": [],
   "source": [
    "import numpy as np\n",
    "from HM2SM import *\n",
    "import matplotlib.pyplot as plt\n",
    "import time"
   ]
  },
  {
   "cell_type": "code",
   "execution_count": 2,
   "metadata": {},
   "outputs": [
    {
     "name": "stdout",
     "output_type": "stream",
     "text": [
      "0.003081083297729492\n"
     ]
    }
   ],
   "source": [
    "haloes_input = np.arange(10, 16, 0.1)\n",
    "stars_output = halo_mass_to_stellar_mass(haloes_input, 0., scatter=False)\n",
    "\n",
    "stars_input = np.arange(6, 14, 0.1)\n",
    "start_time = time.time()\n",
    "haloes_output = stellar_mass_to_halo_mass(stars_input, 0.)\n",
    "elapsed_time = time.time() - start_time\n",
    "print(elapsed_time)"
   ]
  },
  {
   "cell_type": "code",
   "execution_count": 3,
   "metadata": {},
   "outputs": [
    {
     "name": "stdout",
     "output_type": "stream",
     "text": [
      "[10.93936119 10.93988926 10.94041734 10.94094541 10.94147349 10.94200156\n",
      " 10.94252963 10.94305771 10.94358578 10.94411386 10.94464193 10.94517\n",
      " 10.94569808 10.94622615 10.94675423 10.9472823  10.94781037 10.94833845\n",
      " 10.94886652 10.9493946  10.94992267 10.95947847 10.98184864 11.029105\n",
      " 11.0780107  11.12123449 11.14653822 11.18200306 11.22250346 11.25538595\n",
      " 11.2818619  11.34579777 11.36854204 11.42277174 11.46202531 11.50103508\n",
      " 11.53748082 11.59404266 11.63770402 11.66102317 11.75884876 11.80681186\n",
      " 11.86804308 11.88717262 11.99813337 12.06772252 12.11772682 12.25934372\n",
      " 12.40905809 12.63119653 12.76404277 12.95578642 13.12828621 13.36125541\n",
      " 13.64533725 13.75312531 14.05332493 14.24726867 14.4595578  14.72791381\n",
      " 14.91173062 15.12838187 15.36953672 15.58335734 15.81909241 16.05469693\n",
      " 16.28069829 16.43829202 16.67095822 16.90246958 17.09942443 17.33884697\n",
      " 17.58148649 17.84633949 18.03603826 18.26945202 18.51660986 18.73643934\n",
      " 19.00543511 19.10947311]\n"
     ]
    },
    {
     "data": {
      "image/png": "[encoded data removed]",
      "text/plain": [
       "<Figure size 432x288 with 1 Axes>"
      ]
     },
     "metadata": {
      "needs_background": "light"
     },
     "output_type": "display_data"
    }
   ],
   "source": [
    "plt.figure()\n",
    "plt.plot(haloes_input, stars_output)\n",
    "plt.plot(haloes_output, stars_input)\n",
    "print(haloes_output)\n",
    "plt.plot()\n",
    "plt.show()"
   ]
  },
  {
   "cell_type": "code",
   "execution_count": null,
   "metadata": {},
   "outputs": [],
   "source": []
  }
 ],
 "metadata": {
  "kernelspec": {
   "display_name": "Python 3",
   "language": "python",
   "name": "python3"
  },
  "language_info": {
   "codemirror_mode": {
    "name": "ipython",
    "version": 3
   },
   "file_extension": ".py",
   "mimetype": "text/x-python",
   "name": "python",
   "nbconvert_exporter": "python",
   "pygments_lexer": "ipython3",
   "version": "3.7.6"
  }
 },
 "nbformat": 4,
 "nbformat_minor": 4
}
