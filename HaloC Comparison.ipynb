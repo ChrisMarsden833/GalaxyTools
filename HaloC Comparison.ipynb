{
 "cells": [
  {
   "cell_type": "code",
   "execution_count": 26,
   "metadata": {},
   "outputs": [
    {
     "name": "stdout",
     "output_type": "stream",
     "text": [
      "[0.   0.1  0.2  0.3  0.4  0.5  0.75 1.   1.25 1.5  1.75 2.   4.   6.  ]\n",
      "[]\n"
     ]
    }
   ],
   "source": [
    "import numpy as np\n",
    "import pandas as pd\n",
    "import matplotlib.pyplot as plt\n",
    "from scipy.interpolate import interp2d, interp1d\n",
    "\n",
    "\n",
    "def find_nearest(array, value):\n",
    "    array = np.asarray(array)\n",
    "    idx = (np.abs(array - value)).argmin()\n",
    "    return array[idx]\n",
    "\n",
    "path=\"/Users/chris/data/haloConcentration/cM_planck18.txt\"\n",
    "df = pd.read_csv(path, comment='#', sep='\\s+')\n",
    "z_array = df['z']\n",
    "M200c = df['M200c']\n",
    "c200c = df['c200c']\n",
    "\n",
    "M200cl = np.log10(M200c)\n",
    "\n",
    "print(np.unique(z_array[ (M200cl > 12-0.05 ) * (M200cl < 12+0.05 ) ]))\n",
    "\n",
    "print(np.unique( M200cl[(z_array > 4.9 ) * (z_array < 5.1 )] ) )"
   ]
  },
  {
   "cell_type": "code",
   "execution_count": 52,
   "metadata": {},
   "outputs": [],
   "source": [
    "def getCold(m, z):\n",
    "    z = find_nearest(np.unique(z_array), z)\n",
    "    m2c = interp1d(np.log10(M200c[z_array==z]), c200c[z_array==z])\n",
    "    return m2c(m)\n",
    "\n",
    "def getCnew(m, z):\n",
    "    getC = interp2d(z_array, np.log10(M200c), c200c)\n",
    "    return getC(z, m)\n",
    "\n",
    "def getCmeta(m, z, width = 0.1):\n",
    "    mask = (M200cl > m-width/2 ) & (M200cl < m+width/2)\n",
    "    zs = z_array[mask]\n",
    "    uniquez = np.unique(zs)\n",
    "    meanC = np.zeros_like(uniquez)\n",
    "    for i, zi in enumerate(uniquez):\n",
    "        meanC[i] = np.mean(c200c[mask & (z_array == zi)])\n",
    "    z2c = interp1d(uniquez, meanC, kind = 'quadratic')\n",
    "    return z2c(z)\n",
    "        \n",
    "        "
   ]
  },
  {
   "cell_type": "code",
   "execution_count": 51,
   "metadata": {},
   "outputs": [
    {
     "data": {
      "text/plain": [
       "[<matplotlib.lines.Line2D at 0x7fb44a54e8d0>]"
      ]
     },
     "execution_count": 51,
     "metadata": {},
     "output_type": "execute_result"
    },
    {
     "data": {
      "image/png": "[encoded data removed]",
      "text/plain": [
       "<Figure size 432x288 with 1 Axes>"
      ]
     },
     "metadata": {
      "needs_background": "light"
     },
     "output_type": "display_data"
    }
   ],
   "source": [
    "m = [12.267224,   12.20857123, 12.1378665,  12.0606479,  11.98048259, 11.89880288,\n",
    " 11.81610567, 11.73385188, 11.65220462, 11.57089052, 11.4908133,  11.41186558,\n",
    " 11.33358755, 11.25655926, 11.1808664,  11.10590293, 11.03189689, 10.95942312,\n",
    " 10.8876618,  10.81659862, 10.74695516, 10.67815561, 10.60999983, 10.54266154]\n",
    "z_range = [0., 0.25, 0.5,  0.75, 1., 1.25, 1.5,  1.75, 2.,   2.25, 2.5,  2.75, 3.,   3.25,\n",
    " 3.5,  3.75, 4.,   4.25, 4.5,  4.75, 5.,   5.25, 5.5,  5.75]\n",
    "\n",
    "c_old = np.zeros_like(z_range)\n",
    "c_meta = np.zeros_like(z_range)\n",
    "\n",
    "for i, z in enumerate(z_range):\n",
    "    c_old[i] = getCold(m[i], z)\n",
    "    c_meta[i] = getCmeta(m[i], z, width = .5)\n",
    "    \n",
    "plt.figure()\n",
    "plt.plot(z_range, c_old, 'x')\n",
    "#plt.plot(z_range, c_new, 'x')\n",
    "plt.plot(z_range, c_meta )\n",
    "\n"
   ]
  },
  {
   "cell_type": "code",
   "execution_count": null,
   "metadata": {},
   "outputs": [],
   "source": []
  }
 ],
 "metadata": {
  "kernelspec": {
   "display_name": "Python 3",
   "language": "python",
   "name": "python3"
  },
  "language_info": {
   "codemirror_mode": {
    "name": "ipython",
    "version": 3
   },
   "file_extension": ".py",
   "mimetype": "text/x-python",
   "name": "python",
   "nbconvert_exporter": "python",
   "pygments_lexer": "ipython3",
   "version": "3.7.6"
  }
 },
 "nbformat": 4,
 "nbformat_minor": 4
}
